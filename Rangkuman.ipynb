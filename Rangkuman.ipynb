{
  "nbformat": 4,
  "nbformat_minor": 0,
  "metadata": {
    "colab": {
      "provenance": [],
      "toc_visible": true,
      "authorship_tag": "ABX9TyOPf11s+Aab0RGQpWmLl1Li"
    },
    "kernelspec": {
      "name": "python3",
      "display_name": "Python 3"
    },
    "language_info": {
      "name": "python"
    }
  },
  "cells": [
    {
      "cell_type": "markdown",
      "source": [
        "## **Java** Tutor"
      ],
      "metadata": {
        "id": "6pCQV5yJghRN"
      }
    },
    {
      "cell_type": "markdown",
      "source": [
        "## Menggabungkan IF/Else dengan OR dan AND"
      ],
      "metadata": {
        "id": "s0-cweI4n5nJ"
      }
    },
    {
      "cell_type": "markdown",
      "source": [
        "Selain operator perbandingan, IF/Else juga bisa digabungkan dengan operator logika. Operator logika yang paling sering digunakan adalah OR (“||”) dan AND (“&&”). Mungkin Anda bertanya, mengapa penulisan tandanya dobel? Sama halnya seperti kasus pengecekan kondisi sama dengan (“==”), AND dan OR pun juga digunakan untuk mengecek nilai dari beberapa kondisi yang ada dalam IF.\n",
        "\n",
        "Jika menggunakan operator OR (“||”) kondisi yang dibandingkan tidak perlu terpenuhi dua-duanya. Cukup satu kondisi saja yang terpenuhi maka sudah dianggap hasilnya benar atau True. Sedangkan jika menggunakan AND (“&&”) kondisi yang dibandingkan di dalamnya harus terpenuhi semuanya. Jika salah satu saja tidak terpenuhi, maka hasilnya akan bernilai False.\n",
        "\n",
        "Pertama-tama mari kita bahas contoh penerapan AND (“&&”) dengan contoh di bawah ini."
      ],
      "metadata": {
        "id": "dlW1cm7wn8yj"
      }
    },
    {
      "cell_type": "code",
      "source": [
        "let totalBelanja = 125000;\n",
        "let jenisMember = \"Bronze\";\n",
        "\n",
        "if(totalBelanja > 100000 && jenisMember == \"Silver\"){\n",
        "    console.log(\"Selamat, Anda mendapat diskon sebesar 10%\");\n",
        "}\n",
        "else{\n",
        "    console.log(\"Maaf, saat ini Anda belum mendapat diskon\");\n",
        "}"
      ],
      "metadata": {
        "id": "kqw_dURcoBEy"
      },
      "execution_count": null,
      "outputs": []
    },
    {
      "cell_type": "markdown",
      "source": [
        "Kode di atas bertujuan untuk mengecek jika total belanja memenuhi persyaratan dan jenis membernya adalah silver, maka berhak mendapat diskon 10%. Jika salah satu persyaratan saja tidak terpenuhi, maka Anda tidak mendapatkan diskon.\n",
        "\n",
        "Di sana terdapat variabel totalBelanja bernilai 125000 dan variabel jenisMember dengan nilai “Bronze”. Kemudian masuk ke dalam logika pemrograman menggunakan IF/Else. Logika tersebut terdapat 2 kondisi yang harus terpenuhi karena menggunakan operator AND (“&&”). Kondisi pertama adalah variabel totalBelanja harus lebih besar dari 100000. Sedangkan kondisi kedua mengharuskan variabel dari jenisMember adalah “Silver”.\n",
        "\n",
        "Dari dua kondisi di atas, yang terpenuhi hanya kondisi dari totalBelanja saja karena total belanja Anda lebih besar dari 100000. Sedangkan jenisMember yang Anda miliki adalah Bronze, bukan Silver. Karena operator AND (“&&”) mengharuskan keduanya terpenuhi, maka bernilai False dan otomatis masuk ke blok kode dari False yang menampilkan pesan “Maaf, saat ini Anda belum mendapat diskon”."
      ],
      "metadata": {
        "id": "k-G70RNWoEx1"
      }
    },
    {
      "cell_type": "markdown",
      "source": [],
      "metadata": {
        "id": "cKX_PhCboKvg"
      }
    },
    {
      "cell_type": "markdown",
      "source": [
        "# Perulangan FOR"
      ],
      "metadata": {
        "id": "KmvQlVr_lXaz"
      }
    },
    {
      "cell_type": "code",
      "source": [
        "%%Java\n",
        "for(let i=0; i<5; i++){\n",
        "    console.log(\"Hello World\");\n",
        "}\n",
        "\n",
        "console.log(\"Sudah di luar kondisi for\");\n"
      ],
      "metadata": {
        "id": "GtI8lb3tifnQ"
      },
      "execution_count": null,
      "outputs": []
    },
    {
      "cell_type": "markdown",
      "source": [
        "Dari kode di atas kita melakukan perulangan untuk mencetak Hello World sebanyak 5 kali. Kita akan bedah satu per satu.\n",
        "Seperti yang kita pelajari pada sub-modul sebelumnya, bahwa di dalam for terdapat 3 bagian yaitu inisialisasi, kondisi, dan statement dari kondisi perulangan.\n",
        "Inisialisasi ditunjukkan dengan int i=0; yang berarti variabel i yang diinisialisasi dengan nilai awal 0 atau bisa disebut titik awal dari perulangan.\n",
        "Kondisi ditunjukkan pada bagian i < 5 yang berarti kondisi variabel i harus kurang dari 5.Statement i++ adalah penulisan yang lebih singkat dari i= i+1 atau juga disebut increment. Increment dituliskan dalam (“++”) yang berarti nilainya selalu bertambah 1 setiap sebuah kondisi terpenuhi."
      ],
      "metadata": {
        "id": "PQC2haNKoPUX"
      }
    },
    {
      "cell_type": "markdown",
      "source": [
        "# Perulangan Dengan While"
      ],
      "metadata": {
        "id": "b7oz5Ki3lcBD"
      }
    },
    {
      "cell_type": "code",
      "source": [
        "#Java While\n",
        "let counter = 0;\n",
        "\n",
        "while(counter < 5){\n",
        "    console.log(\"Hello World\");\n",
        "    counter++;\n",
        "}\n",
        "\n",
        "console.log(\"Sudah di luar kondisi while\");\n"
      ],
      "metadata": {
        "id": "aw4CZFN4llRy"
      },
      "execution_count": null,
      "outputs": []
    },
    {
      "cell_type": "markdown",
      "source": [
        "\n",
        "Tujuan kodenya sama dengan perulangan for sebelumnya yaitu mencetak pesan Hello World sebanyak 5 kali, tetapi bedanya di sini menggunakan while.\n",
        "Di sini kita mendeklarasikan variabel terlebih dahulu dengan nama counter yang memiliki nilai 0. Kemudian masuk ke kondisi perulangan menggunakan while di mana selama variabel counter kurang dari 5,\n",
        "maka akan menjalankan statement di dalamnya. Statement yang dieksekusi dalam blok kode di atas adalah console.log(“Hello World”); dan counter++.\n",
        "Setiap kali satu kondisi while terpenuhi, maka otomatis mencetak pesan “Hello World” dan nilai counternya bertambah 1. Ketika nilai counternya sudah sama dengan 5 maka\n",
        "kondisinya sudah tidak terpenuhi dan keluar dari perulangan while di atas dan ditandai dengan mencetak pesan “Sudah di luar kondisi while.”\n",
        "Variabel Java Script Masih ingat tentang variabel? Variabel merupakan sebuah wadah yang nantinya akan diisi oleh sebuah nilai. Variabel bisa kita anggap seperti sebuah gelas.\n",
        "Di dalam gelas, Anda bisa mengisikan air, jus, kopi, teh, atau minuman lainnya. Gelas merupakan sebuah variabel. Air, jus, kopi, atau teh merupakan nilai dari variabel. Itulah konsep dasar variabel yang telah kita pelajari pada sub-modul sebelumnya."
      ],
      "metadata": {
        "id": "nBqke1toolVd"
      }
    },
    {
      "cell_type": "markdown",
      "source": [
        "# operator OR?"
      ],
      "metadata": {
        "id": "VyTcCmZMow0E"
      }
    },
    {
      "cell_type": "code",
      "source": [
        "let totalBelanja = 125000;\n",
        "let jenisMember = \"Bronze\";\n",
        "\n",
        "if(totalBelanja > 100000 || jenisMember == \"Silver\"){\n",
        "    console.log(\"Selamat, Anda mendapat diskon sebesar 10%\");\n",
        "}\n",
        "else{\n",
        "    console.log(\"Maaf, saat ini Anda belum mendapat diskon\");\n",
        "}"
      ],
      "metadata": {
        "id": "hRiOlB8QoyPn"
      },
      "execution_count": null,
      "outputs": []
    },
    {
      "cell_type": "markdown",
      "source": [
        "Kode di atas sama dengan sebelumnya yang bertujuan untuk mengecek total belanja dan jenis member apakah mendapat diskon atau tidak. Namun, di sini pengecekan kedua kondisinya menggunakan operator OR (“||”). Apakah hasilnya akan sama? Mari kita bahas.\n",
        "\n",
        "Variabel masih sama yaitu totalBelanja yang memiliki nilai 125000 dan variabel jenisMember yang memiliki nilai “Bronze”. Kemudian kedua variabel tersebut dicek menggunakan dua kondisi yang digabungkan dengan operator OR (“||”).\n",
        "\n",
        "Sehingga kodenya berbunyi, jika totalBelanja lebih dari 100000 atau jenisMember sama dengan “Silver”, maka mencetak pesan “Selamat, Anda mendapat diskon sebesar 10%”. Namun, jika keduanya tidak terpenuhi, maka masuk dalam blok kode Else yang akan menampilkan pesan “Maaf, saat ini Anda belum mendapat diskon.”\n",
        "\n",
        "Dari dua kondisi di atas yang terpenuhi adalah variabel totalBelanja yang lebih besar dari 100000, sedangkan variabel jenisMember tidak terpenuhi persyaratannya karena harus “Silver”. Sehingga karena menggunakan operator OR (“||”), cukup satu kondisi saja terpenuhi sudah bisa bernilai True dan mengeksekusi pesan “Selamat, Anda mendapat diskon sebesar 10%.”\n",
        "\n",
        "\n",
        "\n",
        "\n"
      ],
      "metadata": {
        "id": "0PMdve0Yo146"
      }
    },
    {
      "cell_type": "markdown",
      "source": [
        "# Number\n",
        "Nilai dari tipe data number adalah angka. Variabel bertipe data number dituliskan seperti angka pada umumnya:"
      ],
      "metadata": {
        "id": "pHOfSYwNQuAB"
      }
    },
    {
      "cell_type": "markdown",
      "source": [
        "Function"
      ],
      "metadata": {
        "id": "VOBSD397mOJx"
      }
    },
    {
      "cell_type": "markdown",
      "source": [
        "Rangkuman dari Sub-modul Persiapan Data Pra-Visualisasi\n",
        "\n",
        "\n",
        "Spreadsheet merupakan sebuah lembaran berisi baris dan kolom yang dapat kita gunakan untuk analisis data.\n",
        "\n",
        "\n",
        "Kegunaan spreadsheet:\n",
        "Menyimpan informasi secara detail.\n",
        "Membuat tabel data dengan lebih mudah.\n",
        "Membantu dalam perhitungan statistik.\n",
        "Memvisualisasikan data ke dalam bentuk grafik.\n",
        "Lengkap dengan rumus-rumus yang membantu dalam perhitungan data.\n",
        "Macam-macam aplikasi spreadsheet:\n",
        "Microsoft Excel\n",
        "LibreOffice Calc\n",
        "Google Sheets\n",
        "Spreadsheet pada dasarnya baris dan kolom. Baris dan kolom merupakan kumpulan dari sel. Data yang dapat dimasukkan dalam sel dapat berupa:\n",
        "Angka : Anda dapat memasukkan angka yang nantinya dapat dihitung secara matematis.\n",
        "Teks : Anda dapat memasukkan data atau informasi dalam bentuk teks seperti “Jumlah barang” atau “Nama lengkap”.\n",
        "Rumus : Digunakan untuk melakukan perhitungan atau kalkulasi dari sebuah atau sekelompok sel. Misal, kita dapat menggunakan rumus untuk menjumlahkan sebuah deretan sel yang berisi data dalam bentuk angka.\n",
        "Elemen pada menu bar Google Sheets:\n",
        "Title bar: Bagian yang menunjukkan judul berkas.\n",
        "Menu bar: Terletak di bawah judul berkas. Tersedia berbagai menu yang disediakan oleh Google Sheets mulai dari File hingga Help.\n",
        "Opsi ketika melakukan import file pada Google Sheets:\n",
        "Create new spreadsheet : Menambahkan berkas pada spreadsheet baru.\n",
        "Insert new sheet(s) : Menambahkan berkas menjadi sheet baru dalam spreadsheet yang sedang aktif.\n",
        "Replace spreadsheet : Menggantikan spreadsheet yang sedang aktif dengan berkas yang ditambahkan.\n",
        "Opsi pengolahan data pada berkas spreadsheet aplikasi Google Sheets:\n",
        "Sortir data: Fitur untuk mengurutkan data supaya lebih tertata rapi.\n",
        "Penyaringan data: Cara agar hanya menampilkan data tertentu berdasarkan kondisi yang kita tentukan. Pada saat penyaringan data dilakukan, maka data yang tidak memenuhi kriteria kondisi untuk dimunculkan akan secara otomatis disembunyikan. Namun data yang disembunyikan tersebut tidak terhapus dari Google Sheets.\n",
        "Formula: Langkah atau rumus untuk melakukan perhitungan matematis sehingga mendapatkan nilai tertentu. Sebuah formula pasti merujuk pada sebuah alamat sel tertentu yang dapat disebut sebagai referensi sel.\n",
        "Pivot table: Fitur untuk mengumpulkan dan mengelompokkan data berdasarkan parameter tertentu sesuai kebutuhan, tanpa perlu menggunakan penulisan rumus. Hasil akan disajikan dalam bentuk tabel.\n",
        "Operator adalah simbol atau tanda yang memiliki fungsi tertentu dan digunakan untuk melakukan pemrosesan atau perhitungan data.\n",
        "\n",
        "\n",
        "Operator aritmatika: Operator aritmatika atau matematika digunakan pada aplikasi spreadsheet untuk melakukan operasi matematika dasar, seperti penambahan, pengurangan, perkalian, atau pembagian. Selain itu dapat digunakan untuk menghitung nilai pangkat atau persen.\n",
        "20210220164027d386106c3f29d0933b5164918142517b.jpeg\n",
        "\n",
        "\n",
        "Operator perbandingan: Dalam spreadsheet biasanya kita menggunakan jenis operator perbandingan untuk fungsi-fungsi logika seperti IF, OR, AND, dan NOT. Hasilnya adalah kondisi nilai True atau False.\n",
        "20210220164027a73800ceae45a4a518d778d51fc8477f.jpeg\n",
        "\n",
        "\n",
        "Operator text: Contoh adalah ampersand (“&”) yang berfungsi untuk menggabungkan beberapa string text menjadi satu string tunggal\n",
        "\n",
        "\n",
        "Operator referensi: Operator untuk menunjukkan lokasi sel yang digunakan dalam penerapan sebuah rumus atau range data.\n",
        "20210220164027553f4df2250f43a87c85c6ead17601b2.jpeg\n",
        "\n",
        "\n",
        "Elemen formula dalam spreadsheet aplikasi Google Sheets:\n",
        "Sama dengan (“=”): Tanda sama dengan “=” merupakan elemen yang paling awal ditulis dalam sebuah formula apa pun sebelum lanjut ke elemen lainnya.\n",
        "Fungsi: Fungsi merupakan sebuah penamaan yang telah ditentukan untuk melakukan kalkulasi data berdasarkan susunan argumen dalam aplikasi spreadsheet.\n",
        "Referensi Sel: Acuan sebuah sel atau range dalam aplikasi spreadsheet, mulai dari sheet yang sama hingga berbeda berkas atau workbook.\n",
        "Operator: Simbol atau tanda yang memiliki fungsi tertentu dan digunakan untuk melakukan pemrosesan atau perhitungan data.\n",
        "Konstanta: Nilai masukan yang bukan berasal dari perhitungan karena nilainya selalu sama dan tidak pernah berubah. Bentuk dari konstanta bisa berupa teks atau angka.\n",
        "Beberapa fungsi pada spreadsheet aplikasi Google Sheets:\n",
        "Sum: Mendapatkan nilai total dari rentang sel yang dipilih. Cara penulisan: =SUM(data ke-1, data ke-2, … , data ke-n)\n",
        "SumIF: Menjumlahkan data yang sesuai kriteria tertentu. Hanya terbatas untuk satu kriteria. Cara penulisan: =SUMIF(range, ”kriteria”,sum_range)\n",
        "SumIFS: Menjumlahkan data yang sesuai kriteria tertentu. Menggunakan lebih dari satu kriteria. Cara penulisan: =SUMIFS(sum_range, kriteria_range1, “kriteria1”, kriteria_range2, “kriteria2”, dan seterusnya)\n",
        "Average: Rata-rata aritmatika yang menjumlahkan semua data kemudian dibagi dengan jumlah data yang ada. Cara penulisan: =AVERAGE(data ke-1, data ke-2, … , data ke-n)\n",
        "Count: Menghitung banyaknya sel terpilih dalam rentang tertentu yang berisi nilai numerik. Cara penulisan: =COUNT(data ke-1, data ke-2, … , data ke-n)\n",
        "CountA: Menghitung banyaknya sel terpilih dalam rentang tertentu, tak peduli apa pun jenis data yang ada di dalamnya (angka, teks, tanggal, kondisi benar atau salah, hingga kesalahan perhitungan), namun tidak menghitung sel yang kosong. Cara penulisan: =COUNTA(data ke-1, data ke-2, … , data ke-n)\n",
        "CountIF: Menghitung banyaknya sel terpilih dalam rentang tertentu, yang sesuai kriteria tertentu. Hanya terbatas untuk satu kriteria. Cara penulisan: =COUNTIF(range, “kriteria”)\n",
        "CountIFS: Menghitung banyaknya sel terpilih dalam rentang tertentu, yang sesuai kriteria tertentu. Menggunakan lebih dari satu kriteria. Cara penulisan: =COUNTIFS(kriteria_range1, “kriteria1”, kriteria_range2, “kriteria2”, dan seterusnya)\n",
        "Min: Menentukan nilai terendah dalam rentang tertentu. Contoh penulisan: =MIN(data ke-1, data ke-2, … , data ke-n)\n",
        "Max: Menentukan nilai tertinggi dalam rentang tertentu. Contoh penulisan: =MAX(data ke-1, data ke-2, … , data ke-n)\n",
        "Trim: Menghilangkan ruang kosong yang tidak dibutuhkan pada sebuah teks. Fungsi ini hanya berjalan pada sel tunggal bukan pada rentang sel. Cara penulisan: =TRIM(teks)\n",
        "Replace: Mengganti string baik berupa angka maupun teks biasa. Cara penulisan: =REPLACE(text, position, length, new_text)\n",
        "Unique: Mencari data yang unik dari sebuah rentang data yang mungkin saja ada yang sama. Cara penulisan: =UNIQUE(range)\n",
        "If: Membuat perbandingan logis antara sebuah data dengan kondisi penguji yang yang diberikan. Cara penulisan untuk If sederhana: =IF(sel yang ingin diuji, [nilai jika benar]. [nilai jika salah])"
      ],
      "metadata": {
        "id": "hDNM9XVomQJF"
      }
    },
    {
      "cell_type": "markdown",
      "source": [
        "## Pentingnya Dokumentasi Data\n",
        "Kepercayaan, kredibilitas, dan reproduksibilitas terhadap sebuah data didasari oleh dokumentasi sumber data yang sesuai. Dalam sebuah penelitian, pengguna data tidak serta merta dapat menjadi pembuat data.\n",
        "\n",
        "Orang yang membuat data dapat:\n",
        "\n",
        "mengonfigurasikan instrumen atau simulasi dari mengumpulkan data primer; atau,\n",
        "menerapkan metodologi dan proses tertentu guna mengekstraksi, mengubah, dan menganalisis data masukan demi menghasilkan sebuah produk data keluaran.\n"
      ],
      "metadata": {
        "id": "mUdvSrG4mRed"
      }
    },
    {
      "cell_type": "markdown",
      "source": [
        "Pendekatan yang bisa dilakukan dalam melakukan dokumentasi data sebagai berikut:\n",
        "\n",
        "Dicatat dalam bentuk teks, bisa menggunakan skema penulisan umum atau bisa juga dengan skema khusus dalam data provenance.\n",
        "Dicatat dan disimpan secara internal menggunakan program perangkat lunak atau dalam sistem eksternal lainnya.\n",
        "Dituliskan dalam bentuk yang dapat dibaca oleh mesin atau yang bisa dibaca oleh manusia."
      ],
      "metadata": {
        "id": "gshNYY8o3tsR"
      }
    },
    {
      "cell_type": "markdown",
      "source": [
        "## Exploratory vs Explanatory\n",
        "Dalam presentasi atau penyampaian hasil visualisasi, Anda harus dapat membedakan cara penyampaian antara exploratory analysis atau explanatory analysis. Exploratory berasal dari kata explore yang berarti jelajahi, sehingga exploratory analysis adalah proses penyampaian di mana Anda membimbing dan memandu audiens dalam melihat (menjelajahi) data yang telah dikumpulkan. Sedangkan explanatory berasal dari explain yang berarti menjelaskan, sehingga explanatory analysis adalah proses penyampaian di mana Anda tidak meminta audiens untuk menjelajahi data namun langsung ke poin-poin utama dan implikasi dari data tersebut.\n",
        "\n",
        "Mungkin Anda tergoda untuk melakukan exploratory analysis karena dapat menunjukkan betapa banyaknya data yang telah dikumpulkan dan seberapa besar kerja keras yang dilakukan. Namun harus dimengerti bahwa mayoritas orang bosan dengan cerita presentasi yang bertele-tele. Jika kita bandingkan sebagai sebuah cerita melihat tari kecak di Bali, exploratory analysis adalah bagian di mana tokoh mempersiapkan barang-barang yang dibutuhkan dan proses untuk sampai ke Bali, sedangkan explanatory analysis adalah cerita saat melihat tari kecaknya."
      ],
      "metadata": {
        "id": "SpTDuwQ631S0"
      }
    },
    {
      "cell_type": "markdown",
      "source": [
        "## Rangkuman dari Sub-modul Transformasi Data ke Visual\n",
        "Diagram adalah sebuah representatif visual terhadap informasi. Diagram digunakan untuk mempermudah kita memahami informasi dari data yang kita miliki.\n",
        "\n",
        "\n",
        "Beberapa bentuk grafik dalam visualisasi data:\n",
        "\n",
        "Bar/Column Chart: Jenis grafik di mana setiap kategori diwakili oleh persegi panjang, dengan panjang perseginya yang sebanding dengan nilai agregasi data.\n",
        "Line Chart: Jenis grafik yang menampilkan informasi sebagai serangkaian titik data yang disebut 'penanda' yang dihubungkan oleh segmen garis lurus.\n",
        "Area Chart: Mirip dengan jenis grafik Line Chart. Namun, area di bawah garis yang menghubungkan titik data akan terisi dengan warna atau bayangan.\n",
        "Pie Chart: Jenis grafik yang menampilkan data dalam grafik lingkaran. Seluruh \"kue pai\" mewakili 100% dari keseluruhan, sedangkan pai \"irisan\" mewakili bagian dari keseluruhan.\n",
        "Scatter Chart: Menggunakan titik untuk merepresentasikan nilai numerik pada kategori yang berbeda. Posisi setiap titik pada sumbu horizontal dan vertikal menunjukkan nilai untuk titik data individual.\n",
        "Map Chart: Memungkinkan kita untuk memvisualisasikan hubungan spasial dalam data dengan menunjukkan data pada peta geografis. Umumnya pada peta seperti ini, semakin tebal warnanya, semakin intens pula kepadatan datanya.\n",
        "\n",
        "\n",
        "Kesalahan umum dalam membuat visualisasi data:\n",
        "\n",
        "Nilai persentase tidak sesuai (tidak sepenuhnya sampai 100%) pada grafik pai.\n",
        "Terlalu banyak data yang ingin ditunjukkan.\n",
        "Tidak mengikuti standar penulisan grafik seperti menaruh nilai minimum di sumbu Y paling atas sehingga grafik terbalik.\n",
        "Terdapat sumbu yang terpotong seperti ketika sumbu Y tidak dimulai dari 0%.\n",
        "Penggunaan grafik 3D yang kurang sesuai sehingga dapat terjadi bias pada audiens. Sebagai contoh sebuah irisan pai dapat terlihat lebih besar dari seharusnya dan sebuah batang terlihat lebih tinggi dari seharusnya.\n",
        "Grafik susah dibandingkan karena tidak jelas tujuan dan informasi yang ingin disampaikan.\n",
        "\n",
        "\n",
        "Data provenance (dokumentasi data) adalah sebuah langkah untuk melihat sumber data yang kita peroleh.\n",
        "\n",
        "Dokumentasi data dibutuhkan untuk tahu segala proses dalam pembuatan, perubahan, penanganan, mau pun hal lainnya yang berpengaruh kepada data.\n",
        "Dokumentasi data penting untuk mengetahui keabsahan data dan memungkinkan kita menggunakannya kembali di waktu yang lain.\n",
        "Dokumentasi data penting untuk dapat menilai keaslian dan menumbuhkan kepercayaan kepada data, sekaligus untuk mereproduksi data tersebut.\n",
        "Contoh dari dokumentasi data dapat berupa metadata atau version history,\n",
        "\n",
        "\n",
        "Pendekatan yang dapat dilakukan dalam melakukan dokumentasi data sebagai berikut:\n",
        "\n",
        "Dicatat dalam bentuk teks, bisa menggunakan skema penulisan umum atau bisa juga dengan skema khusus dalam data provenance.\n",
        "Dicatat dan disimpan secara internal menggunakan program perangkat lunak atau dalam sistem eksternal lainnya.\n",
        "Dituliskan dalam bentuk yang dapat dibaca oleh mesin atau yang bisa dibaca oleh manusia.\n",
        "\n",
        "\n",
        "Contoh bentuk penulisan dokumentasi data:\n",
        "\n",
        "Berkas README\n",
        "Data Dictionaries (kamus data)\n",
        "Data Paper\n",
        "\n",
        "\n",
        "Tips dalam menjalankan dokumentasi data:\n",
        "\n",
        "Gunakan Alur Ilmiah yang Terstruktur: Gunakan alur terstruktur yang terdiri dari pencatatan, eksekusi, pemrosesan, dan urutan secara ilmiah, supaya pembaca paham sumber asal dan teori yang mendukung dokumentasi data tersebut.\n",
        "Informasi Harus Jelas dan Sedetail Mungkin: Tautan ke data sumber asli harus jelas dan sebutkan dari mana mendapatkannya.\n",
        "\n",
        "\n",
        "Exploratory analysis adalah proses penyampaian di mana Anda membimbing dan memandu audiens dalam melihat (menjelajahi) data yang telah dikumpulkan.\n",
        "\n",
        "Explanatory analysis adalah proses penyampaian di mana Anda tidak meminta audiens untuk menjelajahi data namun langsung ke poin-poin utama dan implikasi dari data tersebut.\n",
        "\n",
        "3 poin penting dalam melakukan explanatory analysis:\n",
        "\n",
        "Kepada siapa kita berkomunikasi: Berkomunikasi dengan terlalu banyak orang pada saat sama sekaligus, cenderung tidak tepat sasaran karena kebutuhan masing-masing orang dapat berbeda. Jika Anda sebelumnya tidak pernah bertemu dengan audiens, berarti Anda terlebih dahulu harus membangun reputasi bahwa Anda itu benar-benar mengerti topik yang akan diberikan. Biasanya hal ini dilakukan dengan cara perkenalan diri.\n",
        "Bagaimana kita berkomunikasi dengan audiens: Pada proses presentasi secara langsung dan tatap muka, kita dapat menanggapi audiens jika terdapat hal yang kurang jelas, sehingga tidak semua yang kita sampaikan harus ditulis secara detail pada dokumen presentasi dan visualisasi data. Jika dalam bentuk dokumen yang dibaca sendiri-sendiri maka tingkat detail yang diperlukan pada penulisan dokumen biasanya lebih tinggi. Jika kita adalah orang yang menganalisis dan mengomunikasikan data, maka kita harus percaya diri.\n",
        "Bagaimana kita bisa menggunakan data untuk membantu menegaskan maksud kita: Salah satu cara yang dapat dilakukan adalah menggunakan metode 5W (What, Who, When, Why, Where) untuk menegaskan informasi penting yang ingin kita sampaikan.\n",
        "\n",
        "Contoh visualisasi data yang efektif\n",
        "\n",
        "Berbentuk Teks: Ketika kita hanya ingin menampilkan satu atau dua angka saja, gunakan teks sederhana.\n",
        "\n",
        "Tabel: Tabel sangat baik untuk ketika audiens Anda beragam karena mereka dapat membaca baris tertentu sesuai kepentingan masing-masing. Jika kita berhadapan dengan banyak unit pengukuran, tabel lebih memudahkan saat dibaca.\n",
        "\n",
        "Heatmap: Heatmap menggabungkan detail angka pada tabel dengan visual agar membantu audiens untuk lebih cepat fokus pada informasi yang penting pada tabel.\n",
        "\n",
        "Grafik: Grafik lebih cepat diproses dan mudah dipahami dalam mendapatkan informasi.\n",
        "  Grafik scatterplot berguna untuk menunjukkan hubungan antara dua hal yang terdapat di sumbu x dan y karena grafik ini membuat kita memproses data serentak untuk melihat hubungan apa yang muncul.\n",
        "\n",
        "Grafik garis biasanya digunakan untuk melihat data yang bersifat kontinu (berkelanjutan). Karena titik dihubungkan melalui garis, grafik ini memperlihatkan perubahan (pertumbuhan atau pengurangan) yang terjadi antar titik, sehingga tidak sesuai untuk data yang bersifat kategoris seperti data yang membandingkan jenis kelamin (berapa banyak yang laki-laki dan perempuan).\n",
        "\n",
        "Slopegraph merupakan grafik berkategori garis yang hanya memperlihatkan perubahan antara dua titik saja agar audiens fokus pada perubahan kenaikan atau penurunan yang terjadi.\n",
        "\n",
        "Grafik batang (vertikal dan horizontal) dapat membandingkan beberapa data yang digambarkan dalam bentuk batang secara cepat sehingga audiens bisa dengan cepat tahu data yang terbesar, terkecil, dan perbandingan antara kategori data.\n",
        "\n",
        "Grafik batang bertumpuk (vertikal dan horizontal) memungkinkan untuk membandingkan antar kategori utama dan juga antar sub komponen dalam tiap kategori.\n",
        "\n",
        "Grafik air terjun (waterfall chart) dapat digunakan untuk menampilkan bagian tertentu dari grafik batang bertumpuk sehingga lebih fokus menunjukkan data awal, kenaikan atau penurunan yang terjadi, serta data akhir.\n",
        "\n",
        "Grafik area memungkinkan untuk menampilkan data secara lebih ringkas dari grafik lainnya namun tidak cocok memvisualisasikan data yang besaran perbedaan angkanya tidak tinggi.\n",
        "\n",
        "\n",
        "Contoh prinsip Gestalt dalam persepsi visual\n",
        "\n",
        "Proximity (Kedekatan): Objek yang jaraknya berdekatan merupakan kelompok atau golongan yang sama.\n",
        "\n",
        "Similarity (Kesamaan): Objek yang memiliki warna, bentuk, ukuran, dan arah yang sama dianggap terkait atau termasuk bagian dari kelompok yang sama.\n",
        "\n",
        "Enclosure (Pembeda): Objek yang memiliki batas fisik atau border yang sama merupakan satu golongan sama.\n",
        "\n",
        "Closure (Penutupan Bentuk): Manusia cenderung memandang sekumpulan objek yang terpecah-pecah sebagai bagian dari satu objek yang lengkap, daripada memandang kumpulan objek tersebut sebagai sesuatu yang benar-benar terpisah satu sama lain\n",
        "\n",
        "Continuity (Kesinambungan Pola): Manusia cenderung secara alami membentuk garis pola walaupun tidak terlihat secara eksplisit.\n",
        "\n",
        "Connection (Koneksi): Objek yang secara fisik terhubung adalah bagian dari satu golongan atau kesatuan.\n",
        "\n",
        "Cognitive load (beban kognitif) adalah usaha mental yang harus dilakukan untuk dapat memproses dan mempelajari informasi.\n",
        "\n",
        "Salah satu penyebab utama yang menimbulkan cognitive load yang berlebihan adalah seb\n",
        "uah kerumitan atau disebut juga dengan clutter. Clutter merupakan elemen visual yang tidak menambah pemahaman.\n",
        "\n",
        "Agar audiens dapat dengan efektif mengerti visual yang diberikan, maka Anda perlu mengurangi cognitive load. Secara umum, identifikasilah dan hapuslah elemen yang kurang efektif.\n",
        "\n",
        "Preattentive attributes adalah komponen atau atribut visual yang langsung tertangkap perhatian kita secara tanpa sadar.\n",
        "\n",
        "Preattentive attributes dapat dimanfaatkan untuk membantu mengarahkan perhatian pada fokus utama yang ingin disampaikan.\n",
        "\n",
        "Atribut ini dapat digunakan untuk membuat hierarki elemen visual yang mengarahkan perhatian pada informasi yang hendak diinformasikan sesuai dengan proses yang diharapkan.\n",
        "\n",
        "Contoh preattentive attributes adalah penggunaan warna yang berbeda, ukuran font yang lebih besar, menggunakan font cetak tebal, dan memilih posisi yang lebih umum dilihat.\n",
        "\n",
        "3 contoh konsep desain dalam berkomunikasi dengan data\n",
        "\n",
        "Affordances: Dalam istilah desain, semua benda memiliki fungsinya masing-masing. Karakteristik ini menunjukkan bagaimana sebuah objek seharusnya berinteraksi. Cara penerapan:\n",
        "\n",
        "Gunakan warna yang umum\n",
        "Gunakan warna yang konsisten\n",
        "Gunakan posisi yang konsisten\n",
        "\n",
        "Accessibility: Visual dan desain seharusnya bisa dimengerti dan digunakan oleh orang dari berbagai latar belakang atau kemampuan. Cara penerapan:\n",
        "\n",
        "Gunakan bahasa yang sederhana\n",
        "\n",
        "Visual harus dapat menjelaskan dirinya sendiri\n",
        "\n",
        "Aesthetics: Kebiasaan manusia untuk mendapatkan kesan negatif apabila melihat sesuatu yang kurang menarik atau tidak indah.\n",
        "\n",
        "Membuat pilihan warna, bentuk, dan posisi menjadi satu kesatuan yang menarik"
      ],
      "metadata": {
        "id": "wEytCJaD5t7d"
      }
    },
    {
      "cell_type": "markdown",
      "source": [
        "# Rangkuman Mengerti Konsep Dasar Pemrograman\n",
        "Berikut beberapa ringkasan mengenai materi mengerti konsep dasar pemrograman:\n",
        "\n",
        "Sintaksis\n",
        "Sintaksis merupakan aturan-aturan yang ada dalam bahasa pemrograman. Sintaksis harus benar-benar dipatuhi aturannya supaya kode kita berjalan dengan baik.\n",
        "\n",
        "Hampir semua bahasa pemrograman saat ini bersifat case sensitive. Artinya, setiap kapitalisasi huruf pada sebuah kode akan berpengaruh. Misalnya jika kita memiliki variabel bernama kucing dan Kucing, keduanya merupakan dua entitas variabel yang berbeda. Sedangkan kode yang bersifat non Case Sensitive berarti sebaliknya. Ia tidak akan terpengaruh dengan penulisan huruf besar atau kecil.\n",
        "\n",
        "Program komputer terdiri dari kumpulan instruksi tunggal yang berkaitan satu sama lain. Instruksi-instruksi itulah yang disebut dengan statement. Dalam beberapa bahasa pemrograman misalnya seperti C, Java, dan sejenisnya, untuk mengakhiri suatu statement biasanya menggunakan tanda semicolon (;) atau titik koma. Kurangnya tanda semicolon (;) akan menyebabkan program gagal/error untuk dijalankan.\n",
        "\n",
        "Tidak semua bahasa pemrograman menggunakan semicolon sebagai penutup statement. Ada juga yang tidak wajib menggunakan semicolon seperti Python, Swift, dan Kotlin.\n",
        "\n",
        "Pseudocode atau kode semu merupakan istilah dalam pemrograman untuk menuliskan sebuah sintaks, statement, algoritma, dan lainnya dalam bahasa yang bisa dipahami oleh manusia. Salah satu fungsi dari pseudocode adalah meningkatkan pemahaman dari pendekatan apa pun. Hal ini merupakan cara terbaik untuk menjelaskan apa yang kita inginkan dan melatih logika dalam pemrograman.\n",
        "\n",
        "Whitespace saat kita mengetik kode biasanya berupa spasi atau tab untuk indentasi. Whitespace memang tidak mempengaruhi berjalannya suatu program. Namun, dalam bahasa pemrograman Python hal ini sangat sensitif dan berpengaruh terhadap berfungsinya suatu program.\n",
        "\n",
        "Keyword merupakan kata kunci yang telah disediakan oleh sebuah bahasa pemrograman. Keyword tidak bisa berdiri sendiri guna membuat sebuah program yang dapat dijalankan. Kita harus mengkombinasikan keyword dengan logika pemrograman yang ada dengan bahasa yang kita pahami.\n",
        "\n"
      ],
      "metadata": {
        "id": "ervwfM3zE4sv"
      }
    },
    {
      "cell_type": "markdown",
      "source": [
        "# Dasar Pemrograman Secara Umum\n",
        "Variabel dalam pemrograman berfungsi untuk menyimpan nilai dari suatu data. Dalam satu variabel terdapat 3 bagian yaitu nama, tipe data, dan nilai dari variabel tersebut. Beberapa hal yang harus diperhatikan dalam variabel seperti, nama variabel tidak boleh ada spasi dan tidak boleh mengawali nama variabel dengan angka.\n",
        "\n",
        "Operator sama dengan (\"=\") menyatakan perintah pada komputer untuk melakukan sesuatu atau bisa disebut assignment operator (operator penugasan).\n",
        "\n",
        "Tipe data ada 3 jenis yaitu numerik, boolean, dan teks atau karakter. Contoh tipe data numerik yang sering digunakan adalah int (bilangan bulat) dan float (bilangan desimal). Kemudian untuk tipe data boolean memiliki dua nilai saja yaitu true dan false. Sedangkan tipe data berjenis teks atau karakter ada 2 yaitu char (untuk menampung satu karakter saja) dan string (untuk menampung banyak karakter atau kalimat).\n",
        "\n",
        "Logika pemrograman dasar yang dapat diterapkan dalam pemrograman antara lain, logika perbandingan dan perulangan.\n",
        "\n",
        "Dalam pemrograman, logika perbandingan berguna untuk membandingkan dua hal yang memiliki nilai dengan kondisi tertentu, salah satunya dengan operator ==. Logika perbandingan dapat kita bedakan menjadi sederhana dan kompleks. Untuk logika perbandingan sederhana kita dapat mengecek suatu kondisi menggunakan IF/Else saja. Kemungkinan yang dihasilkan oleh IF/Else ada dua. Jika kondisinya terpenuhi, maka ia akan mengeksekusi statement yang ada di dalam blok kode IF paling awal. Sedangkan jika tidak terpenuhi, ia akan mengeksekusi statement yang berada di dalam kondisi Else.\n",
        "\n",
        "Logika perbandingan kompleks dapat menggabungkan IF/Else dengan AND dan OR. Penggunaan AND mengharuskan dua kondisi yang dibandingkan terpenuhi supaya bernilai true. Sedangkan untuk OR salah satu kondisi saja terpenuhi sudah bisa bernilai true.\n",
        "\n",
        "Supaya tidak mengulangi menulis statement yang berulang kali, kita bisa menggunakan logika perulangan. Untuk membuat perulangan bisa menggunakan while atau for. While digunakan ketika kita tidak mengetahui berapa kali perulangan akan berjalan. Yang terpenting adalah selama kondisinya memenuhi syarat maka perulangan akan terus berjalan. Sedangkan dalam For, nilai perulangan, jumlah perulangan, dan akhiran yang biasanya berupa statement."
      ],
      "metadata": {
        "id": "muDLf9IJE8Jj"
      }
    },
    {
      "cell_type": "markdown",
      "source": [
        "# Dasar Pemrograman JavaScript\n",
        "JavaScript erat kaitannya dengan pengembangan web yang berfungsi untuk membuat tampilan web terlihat dinamis dan interaktif. Selain itu terdapat beberapa kegunaan dari JavaScript seperti, mengembangkan aplikasi mobile, membuat game berbasis web, dan juga bisa digunakan untuk pengembangan back-end dari sebuah web.\n",
        "\n",
        "Kita dapat menyimpan suatu nilai ke dalam variabel. ES6 mengenalkan dua cara baru untuk mendefinisikan variabel dalam JavaScript, yaitu menggunakan let dan const. Gunakan const untuk menyimpan nilai yang tidak akan berubah setelah diinisialisasi. Gunakan let apabila nilai di dalam variabel bisa berubah atau diinisialisasi ulang.\n",
        "\n",
        "Terdapat 5 tipe data yang sering atau umum digunakan dalam JavaScript, antara lain:\n",
        "\n",
        "Undefined\n",
        "Variabel tidak memiliki nilai. Artinya, kita hanya mendeklarasikan nama variabelnya saja tanpa menginisialisasikan nilai di dalamnya.\n",
        "\n",
        "Number\n",
        "Nilai dari tipe data number adalah angka.\n",
        "\n",
        "String\n",
        "String merupakan sebuah teks. Untuk menetapkan nilai sebagai string pada variabel gunakan tanda petik satu (‘) atau petik dua (“) di antara teksnya.\n",
        "\n",
        "Boolean\n",
        "Boolean hanya memiliki dua nilai, yaitu true atau false. Tipe data ini menjadi kunci utama dalam penentuan logika.\n",
        "\n",
        "Null\n",
        "Hampir sama dengan undefined, tetapi null perlu diinisialisasikan pada variabel. Null biasa digunakan sebagai nilai sementara pada variabel, tapi sebenarnya nilai tersebut “tidak ada”.\n",
        "\n",
        "Secara umum bahasa pemrograman memiliki 3 konsep dasar yang mirip yaitu,\n",
        "\n",
        "Statement selalu dieksekusi secara berurutan dari atas ke bawah (Sequences)\n",
        "\n",
        "Logika pemilihan keputusan sesuai kondisi yang berlaku, misalnya seperti IF/Else (Selection).\n",
        "\n",
        "Sebuah proses yang dilakukan secara berulang, misalnya seperti For (Looping).\n",
        "\n",
        "Bahasa JavaScript yang telah kita pelajari di materi sebelumnya merupakan salah satu media yang menerapkan 3 konsep dasar pemrograman seperti sequence, selection, dan looping. Ketika kita menggunakan bahasa pemrograman lain misalnya seperti C#, Java, Swift, dan lainnya, Anda juga akan memuat 3 konsep dasar pemrograman yang telah disebutkan di atas.\n",
        "\n"
      ],
      "metadata": {
        "id": "JW8mbYk8FB73"
      }
    },
    {
      "cell_type": "markdown",
      "source": [],
      "metadata": {
        "id": "8Cd0XT0fFH_G"
      }
    }
  ]
}