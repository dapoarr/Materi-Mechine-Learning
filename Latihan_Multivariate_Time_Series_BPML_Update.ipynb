{
  "cells": [
    {
      "cell_type": "markdown",
      "metadata": {
        "id": "view-in-github",
        "colab_type": "text"
      },
      "source": [
        "<a href=\"https://colab.research.google.com/github/dapoarr/Materi-Mechine-Learning/blob/main/Latihan_Multivariate_Time_Series_BPML_Update.ipynb\" target=\"_parent\"><img src=\"https://colab.research.google.com/assets/colab-badge.svg\" alt=\"Open In Colab\"/></a>"
      ]
    },
    {
      "cell_type": "code",
      "execution_count": null,
      "metadata": {
        "id": "UGFrD6L5gOpX"
      },
      "outputs": [],
      "source": [
        "import pandas as pd\n",
        "import tensorflow as tf"
      ]
    },
    {
      "cell_type": "code",
      "execution_count": null,
      "metadata": {
        "id": "y4La-Vuyo6z5"
      },
      "outputs": [],
      "source": [
        "# https://drive.google.com/file/d/1AZRfFoyekqSYpri5183RmJjciRGz_ood/view?usp=sharing\n",
        "df = pd.read_csv('https://drive.google.com/uc?id=1AZRfFoyekqSYpri5183RmJjciRGz_ood', sep=',',\n",
        "                     infer_datetime_format=True, index_col='datetime', header=0)\n",
        "df"
      ]
    },
    {
      "cell_type": "code",
      "execution_count": null,
      "metadata": {
        "id": "W_G0vQdOpMcj"
      },
      "outputs": [],
      "source": [
        "N_FEATURES = len(df.columns)"
      ]
    },
    {
      "cell_type": "code",
      "execution_count": null,
      "metadata": {
        "id": "1TrtP64OpZPx"
      },
      "outputs": [],
      "source": [
        "def normalize_series(data, min, max):\n",
        "    data = data - min\n",
        "    data = data / max\n",
        "    return data"
      ]
    },
    {
      "cell_type": "code",
      "execution_count": null,
      "metadata": {
        "id": "VvrG8MXKpSQg"
      },
      "outputs": [],
      "source": [
        "data = df.values\n",
        "data = normalize_series(data, data.min(axis=0), data.max(axis=0))"
      ]
    },
    {
      "cell_type": "code",
      "execution_count": null,
      "metadata": {
        "id": "Yeb7F4skpaKu"
      },
      "outputs": [],
      "source": [
        "# Splits the data into training and validation sets.\n",
        "SPLIT_TIME = int(len(data) * 0.5) # DO NOT CHANGE THIS\n",
        "x_train = data[:SPLIT_TIME]\n",
        "x_valid = data[SPLIT_TIME:]"
      ]
    },
    {
      "cell_type": "code",
      "execution_count": null,
      "metadata": {
        "colab": {
          "base_uri": "https://localhost:8080/"
        },
        "id": "RieH4DNQGYwT",
        "outputId": "f4573b1f-4aef-4d27-fa52-034379a0bee4"
      },
      "outputs": [
        {
          "data": {
            "text/plain": [
              "86400"
            ]
          },
          "execution_count": 7,
          "metadata": {},
          "output_type": "execute_result"
        }
      ],
      "source": [
        "len(data)"
      ]
    },
    {
      "cell_type": "code",
      "execution_count": null,
      "metadata": {
        "colab": {
          "base_uri": "https://localhost:8080/"
        },
        "id": "sY8aiEYbGWuR",
        "outputId": "99dcad33-5873-42ad-aacc-455181510b49"
      },
      "outputs": [
        {
          "data": {
            "text/plain": [
              "43200"
            ]
          },
          "execution_count": 8,
          "metadata": {},
          "output_type": "execute_result"
        }
      ],
      "source": [
        "SPLIT_TIME"
      ]
    },
    {
      "cell_type": "code",
      "execution_count": null,
      "metadata": {
        "id": "yIS8PKFepc2Y"
      },
      "outputs": [],
      "source": [
        "BATCH_SIZE = 32\n",
        "N_PAST = 24\n",
        "N_FUTURE = 24\n",
        "SHIFT = 1"
      ]
    },
    {
      "cell_type": "code",
      "execution_count": null,
      "metadata": {
        "id": "YArhV1h4p6jV"
      },
      "outputs": [],
      "source": [
        "def windowed_dataset(series, batch_size, n_past=24, n_future=24, shift=1):\n",
        "    ds = tf.data.Dataset.from_tensor_slices(series)\n",
        "    ds = ds.window(size=n_past + n_future, shift=shift, drop_remainder=True)\n",
        "    ds = ds.flat_map(lambda w: w.batch(n_past + n_future))\n",
        "    ds = ds.map(lambda w: (w[:n_past], w[n_past:]))\n",
        "    return ds.batch(batch_size).prefetch(1)"
      ]
    },
    {
      "cell_type": "code",
      "execution_count": null,
      "metadata": {
        "id": "6v8W0kgBpxJD"
      },
      "outputs": [],
      "source": [
        "# Code to create windowed train and validation datasets.\n",
        "train_set = windowed_dataset(series=x_train, batch_size=BATCH_SIZE,\n",
        "                                 n_past=N_PAST, n_future=N_FUTURE,\n",
        "                                 shift=SHIFT)\n",
        "valid_set = windowed_dataset(series=x_valid, batch_size=BATCH_SIZE,\n",
        "                                 n_past=N_PAST, n_future=N_FUTURE,\n",
        "                                 shift=SHIFT)"
      ]
    },
    {
      "cell_type": "code",
      "execution_count": null,
      "metadata": {
        "id": "BbsHgTl-pzji"
      },
      "outputs": [],
      "source": [
        "# model = tf.keras.models.Sequential([\n",
        "#         tf.keras.layers.Dense(64, input_shape=(N_PAST, N_FEATURES)),\n",
        "#         tf.keras.layers.Dense(32, activation='relu'),\n",
        "#         tf.keras.layers.Dense(N_FEATURES)\n",
        "#     ])"
      ]
    },
    {
      "cell_type": "code",
      "execution_count": null,
      "metadata": {
        "id": "roJ_LXazbzBh"
      },
      "outputs": [],
      "source": [
        "model = tf.keras.models.Sequential([\n",
        "        tf.keras.layers.LSTM(72, activation='relu', input_shape=(N_PAST, N_FEATURES), return_sequences=True),\n",
        "        tf.keras.layers.LSTM(48, activation='relu', return_sequences=True),\n",
        "        tf.keras.layers.Dense(128, activation='relu'),\n",
        "        tf.keras.layers.Dropout(0.3),\n",
        "        tf.keras.layers.Dense(N_FEATURES)\n",
        "    ])"
      ]
    },
    {
      "cell_type": "code",
      "execution_count": null,
      "metadata": {
        "id": "PbgCIJmrqA_a"
      },
      "outputs": [],
      "source": [
        "class myCallback(tf.keras.callbacks.Callback):\n",
        "        def on_epoch_end(self, epoch, logs={}):\n",
        "            if (logs.get('mae') < 0.055 and logs.get('val_mae') < 0.055):\n",
        "                self.model.stop_training = True\n",
        "\n",
        "callbacks = myCallback()"
      ]
    },
    {
      "cell_type": "code",
      "execution_count": null,
      "metadata": {
        "id": "3-kDFlPPqHUq"
      },
      "outputs": [],
      "source": [
        "# Code to train and compile the model\n",
        "optimizer = tf.keras.optimizers.Adam(learning_rate=1e-3)\n",
        "model.compile(loss=tf.keras.losses.Huber(),\n",
        "                  optimizer= optimizer,\n",
        "                  metrics=[\"mae\"])"
      ]
    },
    {
      "cell_type": "code",
      "execution_count": null,
      "metadata": {
        "colab": {
          "background_save": true,
          "base_uri": "https://localhost:8080/"
        },
        "id": "jO8MlDPyqS81",
        "outputId": "46c22136-122c-4b5e-d285-f1e249c87599"
      },
      "outputs": [
        {
          "name": "stdout",
          "output_type": "stream",
          "text": [
            "Epoch 1/100\n",
            "   1348/Unknown \u001b[1m74s\u001b[0m 46ms/step - loss: 0.0152 - mae: 0.1022"
          ]
        },
        {
          "name": "stderr",
          "output_type": "stream",
          "text": [
            "/usr/local/lib/python3.11/dist-packages/keras/src/trainers/epoch_iterator.py:151: UserWarning: Your input ran out of data; interrupting training. Make sure that your dataset or generator can generate at least `steps_per_epoch * epochs` batches. You may need to use the `.repeat()` function when building your dataset.\n",
            "  self._interrupted_warning()\n"
          ]
        },
        {
          "name": "stdout",
          "output_type": "stream",
          "text": [
            "\u001b[1m1349/1349\u001b[0m \u001b[32m━━━━━━━━━━━━━━━━━━━━\u001b[0m\u001b[37m\u001b[0m \u001b[1m94s\u001b[0m 60ms/step - loss: 0.0152 - mae: 0.1022 - val_loss: 0.0105 - val_mae: 0.0767\n",
            "Epoch 2/100\n",
            "\u001b[1m1349/1349\u001b[0m \u001b[32m━━━━━━━━━━━━━━━━━━━━\u001b[0m\u001b[37m\u001b[0m \u001b[1m67s\u001b[0m 50ms/step - loss: 0.0108 - mae: 0.0817 - val_loss: 0.0102 - val_mae: 0.0748\n",
            "Epoch 3/100\n",
            "\u001b[1m1349/1349\u001b[0m \u001b[32m━━━━━━━━━━━━━━━━━━━━\u001b[0m\u001b[37m\u001b[0m \u001b[1m84s\u001b[0m 51ms/step - loss: 0.0103 - mae: 0.0788 - val_loss: 0.0098 - val_mae: 0.0716\n",
            "Epoch 4/100\n",
            "\u001b[1m1349/1349\u001b[0m \u001b[32m━━━━━━━━━━━━━━━━━━━━\u001b[0m\u001b[37m\u001b[0m \u001b[1m66s\u001b[0m 49ms/step - loss: 0.0100 - mae: 0.0769 - val_loss: 0.0098 - val_mae: 0.0717\n",
            "Epoch 5/100\n",
            "\u001b[1m1349/1349\u001b[0m \u001b[32m━━━━━━━━━━━━━━━━━━━━\u001b[0m\u001b[37m\u001b[0m \u001b[1m83s\u001b[0m 50ms/step - loss: 0.0099 - mae: 0.0754 - val_loss: 0.0103 - val_mae: 0.0756\n",
            "Epoch 6/100\n",
            "\u001b[1m1349/1349\u001b[0m \u001b[32m━━━━━━━━━━━━━━━━━━━━\u001b[0m\u001b[37m\u001b[0m \u001b[1m67s\u001b[0m 49ms/step - loss: 0.0098 - mae: 0.0748 - val_loss: 0.0095 - val_mae: 0.0702\n",
            "Epoch 7/100\n",
            "\u001b[1m1349/1349\u001b[0m \u001b[32m━━━━━━━━━━━━━━━━━━━━\u001b[0m\u001b[37m\u001b[0m \u001b[1m141s\u001b[0m 93ms/step - loss: 0.0097 - mae: 0.0739 - val_loss: 0.0095 - val_mae: 0.0718\n",
            "Epoch 8/100\n",
            "\u001b[1m1349/1349\u001b[0m \u001b[32m━━━━━━━━━━━━━━━━━━━━\u001b[0m\u001b[37m\u001b[0m \u001b[1m83s\u001b[0m 49ms/step - loss: 0.0096 - mae: 0.0735 - val_loss: 0.0095 - val_mae: 0.0717\n",
            "Epoch 9/100\n",
            "\u001b[1m1349/1349\u001b[0m \u001b[32m━━━━━━━━━━━━━━━━━━━━\u001b[0m\u001b[37m\u001b[0m \u001b[1m142s\u001b[0m 94ms/step - loss: 0.0096 - mae: 0.0734 - val_loss: 0.0096 - val_mae: 0.0717\n",
            "Epoch 10/100\n",
            "\u001b[1m1349/1349\u001b[0m \u001b[32m━━━━━━━━━━━━━━━━━━━━\u001b[0m\u001b[37m\u001b[0m \u001b[1m141s\u001b[0m 94ms/step - loss: 0.0096 - mae: 0.0733 - val_loss: 0.0096 - val_mae: 0.0713\n",
            "Epoch 11/100\n",
            "\u001b[1m1349/1349\u001b[0m \u001b[32m━━━━━━━━━━━━━━━━━━━━\u001b[0m\u001b[37m\u001b[0m \u001b[1m84s\u001b[0m 50ms/step - loss: 0.0096 - mae: 0.0730 - val_loss: 0.0097 - val_mae: 0.0734\n",
            "Epoch 12/100\n",
            "\u001b[1m1349/1349\u001b[0m \u001b[32m━━━━━━━━━━━━━━━━━━━━\u001b[0m\u001b[37m\u001b[0m \u001b[1m80s\u001b[0m 59ms/step - loss: 0.0096 - mae: 0.0735 - val_loss: 0.0097 - val_mae: 0.0719\n",
            "Epoch 13/100\n",
            "\u001b[1m1349/1349\u001b[0m \u001b[32m━━━━━━━━━━━━━━━━━━━━\u001b[0m\u001b[37m\u001b[0m \u001b[1m70s\u001b[0m 50ms/step - loss: 0.0096 - mae: 0.0737 - val_loss: 0.0098 - val_mae: 0.0721\n",
            "Epoch 14/100\n",
            "\u001b[1m1349/1349\u001b[0m \u001b[32m━━━━━━━━━━━━━━━━━━━━\u001b[0m\u001b[37m\u001b[0m \u001b[1m81s\u001b[0m 50ms/step - loss: 0.0096 - mae: 0.0734 - val_loss: 0.0098 - val_mae: 0.0734\n",
            "Epoch 15/100\n",
            "\u001b[1m1349/1349\u001b[0m \u001b[32m━━━━━━━━━━━━━━━━━━━━\u001b[0m\u001b[37m\u001b[0m \u001b[1m67s\u001b[0m 50ms/step - loss: 0.0095 - mae: 0.0731 - val_loss: 0.0097 - val_mae: 0.0710\n",
            "Epoch 16/100\n",
            "\u001b[1m1349/1349\u001b[0m \u001b[32m━━━━━━━━━━━━━━━━━━━━\u001b[0m\u001b[37m\u001b[0m \u001b[1m83s\u001b[0m 61ms/step - loss: 0.0096 - mae: 0.0732 - val_loss: 0.0097 - val_mae: 0.0712\n",
            "Epoch 17/100\n",
            "\u001b[1m1349/1349\u001b[0m \u001b[32m━━━━━━━━━━━━━━━━━━━━\u001b[0m\u001b[37m\u001b[0m \u001b[1m69s\u001b[0m 51ms/step - loss: 0.0095 - mae: 0.0731 - val_loss: 0.0097 - val_mae: 0.0722\n",
            "Epoch 18/100\n",
            "\u001b[1m1349/1349\u001b[0m \u001b[32m━━━━━━━━━━━━━━━━━━━━\u001b[0m\u001b[37m\u001b[0m \u001b[1m83s\u001b[0m 62ms/step - loss: 0.0095 - mae: 0.0731 - val_loss: 0.0097 - val_mae: 0.0706\n",
            "Epoch 19/100\n",
            "\u001b[1m1349/1349\u001b[0m \u001b[32m━━━━━━━━━━━━━━━━━━━━\u001b[0m\u001b[37m\u001b[0m \u001b[1m142s\u001b[0m 62ms/step - loss: 0.0095 - mae: 0.0730 - val_loss: 0.0098 - val_mae: 0.0715\n",
            "Epoch 20/100\n",
            "\u001b[1m1349/1349\u001b[0m \u001b[32m━━━━━━━━━━━━━━━━━━━━\u001b[0m\u001b[37m\u001b[0m \u001b[1m126s\u001b[0m 50ms/step - loss: 0.0095 - mae: 0.0731 - val_loss: 0.0097 - val_mae: 0.0699\n",
            "Epoch 21/100\n",
            "\u001b[1m1349/1349\u001b[0m \u001b[32m━━━━━━━━━━━━━━━━━━━━\u001b[0m\u001b[37m\u001b[0m \u001b[1m141s\u001b[0m 94ms/step - loss: 0.0095 - mae: 0.0728 - val_loss: 0.0096 - val_mae: 0.0703\n",
            "Epoch 22/100\n",
            "\u001b[1m1349/1349\u001b[0m \u001b[32m━━━━━━━━━━━━━━━━━━━━\u001b[0m\u001b[37m\u001b[0m \u001b[1m142s\u001b[0m 94ms/step - loss: 0.0095 - mae: 0.0725 - val_loss: 0.0097 - val_mae: 0.0703\n",
            "Epoch 23/100\n",
            "\u001b[1m1349/1349\u001b[0m \u001b[32m━━━━━━━━━━━━━━━━━━━━\u001b[0m\u001b[37m\u001b[0m \u001b[1m83s\u001b[0m 61ms/step - loss: 0.0095 - mae: 0.0728 - val_loss: 0.0098 - val_mae: 0.0708\n",
            "Epoch 24/100\n",
            "\u001b[1m1349/1349\u001b[0m \u001b[32m━━━━━━━━━━━━━━━━━━━━\u001b[0m\u001b[37m\u001b[0m \u001b[1m141s\u001b[0m 61ms/step - loss: 0.0094 - mae: 0.0725 - val_loss: 0.0099 - val_mae: 0.0711\n",
            "Epoch 25/100\n",
            "\u001b[1m1349/1349\u001b[0m \u001b[32m━━━━━━━━━━━━━━━━━━━━\u001b[0m\u001b[37m\u001b[0m \u001b[1m71s\u001b[0m 52ms/step - loss: 0.0094 - mae: 0.0724 - val_loss: 0.0098 - val_mae: 0.0713\n",
            "Epoch 26/100\n",
            "\u001b[1m1349/1349\u001b[0m \u001b[32m━━━━━━━━━━━━━━━━━━━━\u001b[0m\u001b[37m\u001b[0m \u001b[1m78s\u001b[0m 50ms/step - loss: 0.0094 - mae: 0.0723 - val_loss: 0.0097 - val_mae: 0.0705\n",
            "Epoch 27/100\n",
            "\u001b[1m1349/1349\u001b[0m \u001b[32m━━━━━━━━━━━━━━━━━━━━\u001b[0m\u001b[37m\u001b[0m \u001b[1m82s\u001b[0m 61ms/step - loss: 0.0094 - mae: 0.0721 - val_loss: 0.0097 - val_mae: 0.0705\n",
            "Epoch 28/100\n",
            "\u001b[1m1349/1349\u001b[0m \u001b[32m━━━━━━━━━━━━━━━━━━━━\u001b[0m\u001b[37m\u001b[0m \u001b[1m140s\u001b[0m 60ms/step - loss: 0.0094 - mae: 0.0722 - val_loss: 0.0097 - val_mae: 0.0712\n",
            "Epoch 29/100\n",
            "\u001b[1m1349/1349\u001b[0m \u001b[32m━━━━━━━━━━━━━━━━━━━━\u001b[0m\u001b[37m\u001b[0m \u001b[1m83s\u001b[0m 62ms/step - loss: 0.0093 - mae: 0.0718 - val_loss: 0.0098 - val_mae: 0.0711\n",
            "Epoch 30/100\n",
            "\u001b[1m1349/1349\u001b[0m \u001b[32m━━━━━━━━━━━━━━━━━━━━\u001b[0m\u001b[37m\u001b[0m \u001b[1m141s\u001b[0m 61ms/step - loss: 0.0093 - mae: 0.0718 - val_loss: 0.0097 - val_mae: 0.0701\n",
            "Epoch 31/100\n",
            "\u001b[1m1349/1349\u001b[0m \u001b[32m━━━━━━━━━━━━━━━━━━━━\u001b[0m\u001b[37m\u001b[0m \u001b[1m83s\u001b[0m 61ms/step - loss: 0.0093 - mae: 0.0718 - val_loss: 0.0097 - val_mae: 0.0704\n",
            "Epoch 32/100\n",
            "\u001b[1m1349/1349\u001b[0m \u001b[32m━━━━━━━━━━━━━━━━━━━━\u001b[0m\u001b[37m\u001b[0m \u001b[1m141s\u001b[0m 61ms/step - loss: 0.0093 - mae: 0.0716 - val_loss: 0.0098 - val_mae: 0.0707\n",
            "Epoch 33/100\n",
            "\u001b[1m1349/1349\u001b[0m \u001b[32m━━━━━━━━━━━━━━━━━━━━\u001b[0m\u001b[37m\u001b[0m \u001b[1m142s\u001b[0m 61ms/step - loss: 0.0093 - mae: 0.0716 - val_loss: 0.0097 - val_mae: 0.0704\n",
            "Epoch 34/100\n",
            "\u001b[1m1349/1349\u001b[0m \u001b[32m━━━━━━━━━━━━━━━━━━━━\u001b[0m\u001b[37m\u001b[0m \u001b[1m128s\u001b[0m 51ms/step - loss: 0.0092 - mae: 0.0714 - val_loss: 0.0098 - val_mae: 0.0707\n",
            "Epoch 35/100\n",
            "\u001b[1m1349/1349\u001b[0m \u001b[32m━━━━━━━━━━━━━━━━━━━━\u001b[0m\u001b[37m\u001b[0m \u001b[1m81s\u001b[0m 50ms/step - loss: 0.0093 - mae: 0.0714 - val_loss: 0.0097 - val_mae: 0.0702\n",
            "Epoch 36/100\n",
            "\u001b[1m1349/1349\u001b[0m \u001b[32m━━━━━━━━━━━━━━━━━━━━\u001b[0m\u001b[37m\u001b[0m \u001b[1m67s\u001b[0m 50ms/step - loss: 0.0092 - mae: 0.0712 - val_loss: 0.0103 - val_mae: 0.0719\n",
            "Epoch 37/100\n",
            "\u001b[1m1349/1349\u001b[0m \u001b[32m━━━━━━━━━━━━━━━━━━━━\u001b[0m\u001b[37m\u001b[0m \u001b[1m83s\u001b[0m 51ms/step - loss: 0.0093 - mae: 0.0717 - val_loss: 0.0101 - val_mae: 0.0723\n",
            "Epoch 38/100\n",
            "\u001b[1m1349/1349\u001b[0m \u001b[32m━━━━━━━━━━━━━━━━━━━━\u001b[0m\u001b[37m\u001b[0m \u001b[1m81s\u001b[0m 50ms/step - loss: 0.0092 - mae: 0.0712 - val_loss: 0.0101 - val_mae: 0.0722\n",
            "Epoch 39/100\n",
            "\u001b[1m1349/1349\u001b[0m \u001b[32m━━━━━━━━━━━━━━━━━━━━\u001b[0m\u001b[37m\u001b[0m \u001b[1m84s\u001b[0m 52ms/step - loss: 0.0092 - mae: 0.0711 - val_loss: 0.0099 - val_mae: 0.0716\n",
            "Epoch 40/100\n",
            "\u001b[1m1349/1349\u001b[0m \u001b[32m━━━━━━━━━━━━━━━━━━━━\u001b[0m\u001b[37m\u001b[0m \u001b[1m80s\u001b[0m 59ms/step - loss: 0.0092 - mae: 0.0712 - val_loss: 0.0103 - val_mae: 0.0734\n",
            "Epoch 41/100\n",
            "\u001b[1m1349/1349\u001b[0m \u001b[32m━━━━━━━━━━━━━━━━━━━━\u001b[0m\u001b[37m\u001b[0m \u001b[1m82s\u001b[0m 61ms/step - loss: 0.0092 - mae: 0.0714 - val_loss: 0.0107 - val_mae: 0.0733\n",
            "Epoch 42/100\n",
            "\u001b[1m1349/1349\u001b[0m \u001b[32m━━━━━━━━━━━━━━━━━━━━\u001b[0m\u001b[37m\u001b[0m \u001b[1m131s\u001b[0m 53ms/step - loss: 0.0092 - mae: 0.0712 - val_loss: 0.0101 - val_mae: 0.0718\n",
            "Epoch 43/100\n",
            "\u001b[1m1349/1349\u001b[0m \u001b[32m━━━━━━━━━━━━━━━━━━━━\u001b[0m\u001b[37m\u001b[0m \u001b[1m139s\u001b[0m 95ms/step - loss: 0.0091 - mae: 0.0707 - val_loss: 0.0101 - val_mae: 0.0718\n",
            "Epoch 44/100\n",
            "\u001b[1m1349/1349\u001b[0m \u001b[32m━━━━━━━━━━━━━━━━━━━━\u001b[0m\u001b[37m\u001b[0m \u001b[1m81s\u001b[0m 50ms/step - loss: 0.0092 - mae: 0.0711 - val_loss: 0.0102 - val_mae: 0.0734\n",
            "Epoch 45/100\n",
            "\u001b[1m1349/1349\u001b[0m \u001b[32m━━━━━━━━━━━━━━━━━━━━\u001b[0m\u001b[37m\u001b[0m \u001b[1m143s\u001b[0m 95ms/step - loss: 0.0093 - mae: 0.0713 - val_loss: 0.0104 - val_mae: 0.0736\n",
            "Epoch 46/100\n",
            "\u001b[1m1349/1349\u001b[0m \u001b[32m━━━━━━━━━━━━━━━━━━━━\u001b[0m\u001b[37m\u001b[0m \u001b[1m68s\u001b[0m 50ms/step - loss: 0.0092 - mae: 0.0711 - val_loss: 0.0103 - val_mae: 0.0736\n",
            "Epoch 47/100\n",
            "\u001b[1m1349/1349\u001b[0m \u001b[32m━━━━━━━━━━━━━━━━━━━━\u001b[0m\u001b[37m\u001b[0m \u001b[1m141s\u001b[0m 94ms/step - loss: 0.0092 - mae: 0.0709 - val_loss: 0.0100 - val_mae: 0.0716\n",
            "Epoch 48/100\n",
            "\u001b[1m1349/1349\u001b[0m \u001b[32m━━━━━━━━━━━━━━━━━━━━\u001b[0m\u001b[37m\u001b[0m \u001b[1m83s\u001b[0m 50ms/step - loss: 0.0092 - mae: 0.0708 - val_loss: 0.0103 - val_mae: 0.0724\n",
            "Epoch 49/100\n",
            "\u001b[1m1349/1349\u001b[0m \u001b[32m━━━━━━━━━━━━━━━━━━━━\u001b[0m\u001b[37m\u001b[0m \u001b[1m82s\u001b[0m 50ms/step - loss: 0.0092 - mae: 0.0708 - val_loss: 0.0102 - val_mae: 0.0722\n",
            "Epoch 50/100\n",
            "\u001b[1m1349/1349\u001b[0m \u001b[32m━━━━━━━━━━━━━━━━━━━━\u001b[0m\u001b[37m\u001b[0m \u001b[1m83s\u001b[0m 51ms/step - loss: 0.0092 - mae: 0.0708 - val_loss: 0.0100 - val_mae: 0.0717\n",
            "Epoch 51/100\n",
            "\u001b[1m1349/1349\u001b[0m \u001b[32m━━━━━━━━━━━━━━━━━━━━\u001b[0m\u001b[37m\u001b[0m \u001b[1m140s\u001b[0m 94ms/step - loss: 0.0092 - mae: 0.0706 - val_loss: 0.0101 - val_mae: 0.0723\n",
            "Epoch 52/100\n",
            "\u001b[1m1349/1349\u001b[0m \u001b[32m━━━━━━━━━━━━━━━━━━━━\u001b[0m\u001b[37m\u001b[0m \u001b[1m83s\u001b[0m 50ms/step - loss: 0.0091 - mae: 0.0705 - val_loss: 0.0101 - val_mae: 0.0711\n",
            "Epoch 53/100\n",
            "\u001b[1m1349/1349\u001b[0m \u001b[32m━━━━━━━━━━━━━━━━━━━━\u001b[0m\u001b[37m\u001b[0m \u001b[1m86s\u001b[0m 64ms/step - loss: 0.0091 - mae: 0.0706 - val_loss: 0.0101 - val_mae: 0.0709\n",
            "Epoch 54/100\n",
            "\u001b[1m1349/1349\u001b[0m \u001b[32m━━━━━━━━━━━━━━━━━━━━\u001b[0m\u001b[37m\u001b[0m \u001b[1m137s\u001b[0m 61ms/step - loss: 0.0092 - mae: 0.0706 - val_loss: 0.0100 - val_mae: 0.0704\n",
            "Epoch 55/100\n",
            "\u001b[1m1349/1349\u001b[0m \u001b[32m━━━━━━━━━━━━━━━━━━━━\u001b[0m\u001b[37m\u001b[0m \u001b[1m68s\u001b[0m 50ms/step - loss: 0.0091 - mae: 0.0702 - val_loss: 0.0101 - val_mae: 0.0701\n",
            "Epoch 56/100\n",
            "\u001b[1m1349/1349\u001b[0m \u001b[32m━━━━━━━━━━━━━━━━━━━━\u001b[0m\u001b[37m\u001b[0m \u001b[1m83s\u001b[0m 62ms/step - loss: 0.0092 - mae: 0.0707 - val_loss: 0.0102 - val_mae: 0.0717\n",
            "Epoch 57/100\n",
            "\u001b[1m1349/1349\u001b[0m \u001b[32m━━━━━━━━━━━━━━━━━━━━\u001b[0m\u001b[37m\u001b[0m \u001b[1m69s\u001b[0m 51ms/step - loss: 0.0091 - mae: 0.0703 - val_loss: 0.0101 - val_mae: 0.0700\n",
            "Epoch 58/100\n",
            "\u001b[1m1349/1349\u001b[0m \u001b[32m━━━━━━━━━━━━━━━━━━━━\u001b[0m\u001b[37m\u001b[0m \u001b[1m68s\u001b[0m 50ms/step - loss: 0.0091 - mae: 0.0703 - val_loss: 0.0101 - val_mae: 0.0707\n",
            "Epoch 59/100\n",
            "\u001b[1m1349/1349\u001b[0m \u001b[32m━━━━━━━━━━━━━━━━━━━━\u001b[0m\u001b[37m\u001b[0m \u001b[1m69s\u001b[0m 51ms/step - loss: 0.0091 - mae: 0.0702 - val_loss: 0.0101 - val_mae: 0.0703\n",
            "Epoch 60/100\n",
            "\u001b[1m1349/1349\u001b[0m \u001b[32m━━━━━━━━━━━━━━━━━━━━\u001b[0m\u001b[37m\u001b[0m \u001b[1m141s\u001b[0m 95ms/step - loss: 0.0091 - mae: 0.0704 - val_loss: 0.0102 - val_mae: 0.0707\n",
            "Epoch 61/100\n",
            "\u001b[1m1349/1349\u001b[0m \u001b[32m━━━━━━━━━━━━━━━━━━━━\u001b[0m\u001b[37m\u001b[0m \u001b[1m143s\u001b[0m 96ms/step - loss: 0.0090 - mae: 0.0702 - val_loss: 0.0103 - val_mae: 0.0703\n",
            "Epoch 62/100\n",
            "\u001b[1m1349/1349\u001b[0m \u001b[32m━━━━━━━━━━━━━━━━━━━━\u001b[0m\u001b[37m\u001b[0m \u001b[1m68s\u001b[0m 51ms/step - loss: 0.0091 - mae: 0.0702 - val_loss: 0.0102 - val_mae: 0.0700\n",
            "Epoch 63/100\n",
            "\u001b[1m1349/1349\u001b[0m \u001b[32m━━━━━━━━━━━━━━━━━━━━\u001b[0m\u001b[37m\u001b[0m \u001b[1m83s\u001b[0m 62ms/step - loss: 0.0091 - mae: 0.0701 - val_loss: 0.0102 - val_mae: 0.0698\n",
            "Epoch 64/100\n",
            "\u001b[1m1349/1349\u001b[0m \u001b[32m━━━━━━━━━━━━━━━━━━━━\u001b[0m\u001b[37m\u001b[0m \u001b[1m68s\u001b[0m 50ms/step - loss: 0.0090 - mae: 0.0698 - val_loss: 0.0101 - val_mae: 0.0694\n",
            "Epoch 65/100\n",
            "\u001b[1m1349/1349\u001b[0m \u001b[32m━━━━━━━━━━━━━━━━━━━━\u001b[0m\u001b[37m\u001b[0m \u001b[1m141s\u001b[0m 94ms/step - loss: 0.0090 - mae: 0.0700 - val_loss: 0.0101 - val_mae: 0.0694\n",
            "Epoch 66/100\n",
            "\u001b[1m1349/1349\u001b[0m \u001b[32m━━━━━━━━━━━━━━━━━━━━\u001b[0m\u001b[37m\u001b[0m \u001b[1m142s\u001b[0m 94ms/step - loss: 0.0090 - mae: 0.0696 - val_loss: 0.0104 - val_mae: 0.0712\n",
            "Epoch 67/100\n",
            "\u001b[1m1349/1349\u001b[0m \u001b[32m━━━━━━━━━━━━━━━━━━━━\u001b[0m\u001b[37m\u001b[0m \u001b[1m83s\u001b[0m 62ms/step - loss: 0.0090 - mae: 0.0697 - val_loss: 0.0102 - val_mae: 0.0703\n",
            "Epoch 68/100\n",
            "\u001b[1m1349/1349\u001b[0m \u001b[32m━━━━━━━━━━━━━━━━━━━━\u001b[0m\u001b[37m\u001b[0m \u001b[1m141s\u001b[0m 61ms/step - loss: 0.0089 - mae: 0.0695 - val_loss: 0.0102 - val_mae: 0.0704\n",
            "Epoch 69/100\n",
            "\u001b[1m1349/1349\u001b[0m \u001b[32m━━━━━━━━━━━━━━━━━━━━\u001b[0m\u001b[37m\u001b[0m \u001b[1m70s\u001b[0m 52ms/step - loss: 0.0089 - mae: 0.0694 - val_loss: 0.0101 - val_mae: 0.0699\n",
            "Epoch 70/100\n",
            "\u001b[1m1349/1349\u001b[0m \u001b[32m━━━━━━━━━━━━━━━━━━━━\u001b[0m\u001b[37m\u001b[0m \u001b[1m68s\u001b[0m 50ms/step - loss: 0.0089 - mae: 0.0692 - val_loss: 0.0101 - val_mae: 0.0698\n",
            "Epoch 71/100\n",
            "\u001b[1m1349/1349\u001b[0m \u001b[32m━━━━━━━━━━━━━━━━━━━━\u001b[0m\u001b[37m\u001b[0m \u001b[1m82s\u001b[0m 50ms/step - loss: 0.0089 - mae: 0.0691 - val_loss: 0.0101 - val_mae: 0.0710\n",
            "Epoch 72/100\n",
            "\u001b[1m1349/1349\u001b[0m \u001b[32m━━━━━━━━━━━━━━━━━━━━\u001b[0m\u001b[37m\u001b[0m \u001b[1m86s\u001b[0m 53ms/step - loss: 0.0089 - mae: 0.0693 - val_loss: 0.0102 - val_mae: 0.0709\n",
            "Epoch 73/100\n",
            "\u001b[1m1349/1349\u001b[0m \u001b[32m━━━━━━━━━━━━━━━━━━━━\u001b[0m\u001b[37m\u001b[0m \u001b[1m78s\u001b[0m 50ms/step - loss: 0.0088 - mae: 0.0690 - val_loss: 0.0103 - val_mae: 0.0708\n",
            "Epoch 74/100\n",
            "\u001b[1m1349/1349\u001b[0m \u001b[32m━━━━━━━━━━━━━━━━━━━━\u001b[0m\u001b[37m\u001b[0m \u001b[1m82s\u001b[0m 50ms/step - loss: 0.0088 - mae: 0.0688 - val_loss: 0.0101 - val_mae: 0.0703\n",
            "Epoch 75/100\n",
            "\u001b[1m1349/1349\u001b[0m \u001b[32m━━━━━━━━━━━━━━━━━━━━\u001b[0m\u001b[37m\u001b[0m \u001b[1m141s\u001b[0m 94ms/step - loss: 0.0088 - mae: 0.0686 - val_loss: 0.0104 - val_mae: 0.0711\n",
            "Epoch 76/100\n",
            "\u001b[1m1349/1349\u001b[0m \u001b[32m━━━━━━━━━━━━━━━━━━━━\u001b[0m\u001b[37m\u001b[0m \u001b[1m85s\u001b[0m 51ms/step - loss: 0.0089 - mae: 0.0691 - val_loss: 0.0103 - val_mae: 0.0701\n",
            "Epoch 77/100\n",
            "\u001b[1m1349/1349\u001b[0m \u001b[32m━━━━━━━━━━━━━━━━━━━━\u001b[0m\u001b[37m\u001b[0m \u001b[1m80s\u001b[0m 50ms/step - loss: 0.0088 - mae: 0.0687 - val_loss: 0.0102 - val_mae: 0.0709\n",
            "Epoch 78/100\n",
            "\u001b[1m1349/1349\u001b[0m \u001b[32m━━━━━━━━━━━━━━━━━━━━\u001b[0m\u001b[37m\u001b[0m \u001b[1m82s\u001b[0m 51ms/step - loss: 0.0087 - mae: 0.0684 - val_loss: 0.0102 - val_mae: 0.0712\n",
            "Epoch 79/100\n",
            "\u001b[1m1349/1349\u001b[0m \u001b[32m━━━━━━━━━━━━━━━━━━━━\u001b[0m\u001b[37m\u001b[0m \u001b[1m81s\u001b[0m 60ms/step - loss: 0.0087 - mae: 0.0685 - val_loss: 0.0104 - val_mae: 0.0710\n",
            "Epoch 80/100\n",
            "\u001b[1m1349/1349\u001b[0m \u001b[32m━━━━━━━━━━━━━━━━━━━━\u001b[0m\u001b[37m\u001b[0m \u001b[1m83s\u001b[0m 61ms/step - loss: 0.0088 - mae: 0.0685 - val_loss: 0.0102 - val_mae: 0.0706\n",
            "Epoch 81/100\n",
            "\u001b[1m1349/1349\u001b[0m \u001b[32m━━━━━━━━━━━━━━━━━━━━\u001b[0m\u001b[37m\u001b[0m \u001b[1m68s\u001b[0m 50ms/step - loss: 0.0087 - mae: 0.0683 - val_loss: 0.0102 - val_mae: 0.0711\n",
            "Epoch 82/100\n",
            "\u001b[1m1349/1349\u001b[0m \u001b[32m━━━━━━━━━━━━━━━━━━━━\u001b[0m\u001b[37m\u001b[0m \u001b[1m143s\u001b[0m 96ms/step - loss: 0.0087 - mae: 0.0683 - val_loss: 0.0105 - val_mae: 0.0727\n",
            "Epoch 83/100\n",
            "\u001b[1m1349/1349\u001b[0m \u001b[32m━━━━━━━━━━━━━━━━━━━━\u001b[0m\u001b[37m\u001b[0m \u001b[1m81s\u001b[0m 60ms/step - loss: 0.0086 - mae: 0.0680 - val_loss: 0.0103 - val_mae: 0.0708\n",
            "Epoch 84/100\n",
            "\u001b[1m1349/1349\u001b[0m \u001b[32m━━━━━━━━━━━━━━━━━━━━\u001b[0m\u001b[37m\u001b[0m \u001b[1m84s\u001b[0m 63ms/step - loss: 0.0086 - mae: 0.0679 - val_loss: 0.0105 - val_mae: 0.0717\n",
            "Epoch 85/100\n",
            "\u001b[1m1349/1349\u001b[0m \u001b[32m━━━━━━━━━━━━━━━━━━━━\u001b[0m\u001b[37m\u001b[0m \u001b[1m139s\u001b[0m 61ms/step - loss: 0.0086 - mae: 0.0680 - val_loss: 0.0102 - val_mae: 0.0707\n",
            "Epoch 86/100\n",
            "\u001b[1m1349/1349\u001b[0m \u001b[32m━━━━━━━━━━━━━━━━━━━━\u001b[0m\u001b[37m\u001b[0m \u001b[1m69s\u001b[0m 51ms/step - loss: 0.0086 - mae: 0.0679 - val_loss: 0.0105 - val_mae: 0.0710\n",
            "Epoch 87/100\n",
            "\u001b[1m1349/1349\u001b[0m \u001b[32m━━━━━━━━━━━━━━━━━━━━\u001b[0m\u001b[37m\u001b[0m \u001b[1m82s\u001b[0m 51ms/step - loss: 0.0086 - mae: 0.0681 - val_loss: 0.0105 - val_mae: 0.0716\n",
            "Epoch 88/100\n",
            "\u001b[1m1349/1349\u001b[0m \u001b[32m━━━━━━━━━━━━━━━━━━━━\u001b[0m\u001b[37m\u001b[0m \u001b[1m143s\u001b[0m 96ms/step - loss: 0.0086 - mae: 0.0678 - val_loss: 0.0104 - val_mae: 0.0715\n",
            "Epoch 89/100\n",
            "\u001b[1m1349/1349\u001b[0m \u001b[32m━━━━━━━━━━━━━━━━━━━━\u001b[0m\u001b[37m\u001b[0m \u001b[1m81s\u001b[0m 50ms/step - loss: 0.0086 - mae: 0.0678 - val_loss: 0.0105 - val_mae: 0.0720\n",
            "Epoch 90/100\n",
            "\u001b[1m1349/1349\u001b[0m \u001b[32m━━━━━━━━━━━━━━━━━━━━\u001b[0m\u001b[37m\u001b[0m \u001b[1m86s\u001b[0m 53ms/step - loss: 0.0086 - mae: 0.0677 - val_loss: 0.0104 - val_mae: 0.0714\n",
            "Epoch 91/100\n",
            "\u001b[1m1349/1349\u001b[0m \u001b[32m━━━━━━━━━━━━━━━━━━━━\u001b[0m\u001b[37m\u001b[0m \u001b[1m82s\u001b[0m 53ms/step - loss: 0.0085 - mae: 0.0673 - val_loss: 0.0104 - val_mae: 0.0717\n",
            "Epoch 92/100\n",
            "\u001b[1m1349/1349\u001b[0m \u001b[32m━━━━━━━━━━━━━━━━━━━━\u001b[0m\u001b[37m\u001b[0m \u001b[1m82s\u001b[0m 61ms/step - loss: 0.0086 - mae: 0.0680 - val_loss: 0.0104 - val_mae: 0.0712\n",
            "Epoch 93/100\n",
            "\u001b[1m1349/1349\u001b[0m \u001b[32m━━━━━━━━━━━━━━━━━━━━\u001b[0m\u001b[37m\u001b[0m \u001b[1m127s\u001b[0m 50ms/step - loss: 0.0085 - mae: 0.0676 - val_loss: 0.0104 - val_mae: 0.0715\n",
            "Epoch 94/100\n",
            "\u001b[1m1349/1349\u001b[0m \u001b[32m━━━━━━━━━━━━━━━━━━━━\u001b[0m\u001b[37m\u001b[0m \u001b[1m81s\u001b[0m 60ms/step - loss: 0.0085 - mae: 0.0677 - val_loss: 0.0106 - val_mae: 0.0725\n",
            "Epoch 95/100\n",
            "\u001b[1m1349/1349\u001b[0m \u001b[32m━━━━━━━━━━━━━━━━━━━━\u001b[0m\u001b[37m\u001b[0m \u001b[1m70s\u001b[0m 51ms/step - loss: 0.0085 - mae: 0.0674 - val_loss: 0.0104 - val_mae: 0.0718\n",
            "Epoch 96/100\n",
            "\u001b[1m1349/1349\u001b[0m \u001b[32m━━━━━━━━━━━━━━━━━━━━\u001b[0m\u001b[37m\u001b[0m \u001b[1m81s\u001b[0m 51ms/step - loss: 0.0084 - mae: 0.0673 - val_loss: 0.0105 - val_mae: 0.0721\n",
            "Epoch 97/100\n",
            "\u001b[1m1349/1349\u001b[0m \u001b[32m━━━━━━━━━━━━━━━━━━━━\u001b[0m\u001b[37m\u001b[0m \u001b[1m82s\u001b[0m 51ms/step - loss: 0.0085 - mae: 0.0672 - val_loss: 0.0105 - val_mae: 0.0716\n",
            "Epoch 98/100\n",
            "\u001b[1m1349/1349\u001b[0m \u001b[32m━━━━━━━━━━━━━━━━━━━━\u001b[0m\u001b[37m\u001b[0m \u001b[1m141s\u001b[0m 95ms/step - loss: 0.0085 - mae: 0.0673 - val_loss: 0.0104 - val_mae: 0.0715\n",
            "Epoch 99/100\n",
            "\u001b[1m1349/1349\u001b[0m \u001b[32m━━━━━━━━━━━━━━━━━━━━\u001b[0m\u001b[37m\u001b[0m \u001b[1m83s\u001b[0m 52ms/step - loss: 0.0084 - mae: 0.0673 - val_loss: 0.0102 - val_mae: 0.0709\n",
            "Epoch 100/100\n",
            "\u001b[1m1349/1349\u001b[0m \u001b[32m━━━━━━━━━━━━━━━━━━━━\u001b[0m\u001b[37m\u001b[0m \u001b[1m70s\u001b[0m 52ms/step - loss: 0.0085 - mae: 0.0672 - val_loss: 0.0103 - val_mae: 0.0708\n"
          ]
        },
        {
          "data": {
            "text/plain": [
              "<keras.src.callbacks.history.History at 0x7e70cf1114d0>"
            ]
          },
          "execution_count": 16,
          "metadata": {},
          "output_type": "execute_result"
        }
      ],
      "source": [
        "model.fit(train_set,\n",
        "          validation_data=(valid_set),\n",
        "          epochs=100,\n",
        "          callbacks=callbacks\n",
        "    )"
      ]
    },
    {
      "cell_type": "code",
      "execution_count": null,
      "metadata": {
        "id": "1i1CphC1rko3"
      },
      "outputs": [],
      "source": [
        "train_pred = model.predict(train_set)"
      ]
    },
    {
      "cell_type": "code",
      "execution_count": null,
      "metadata": {
        "colab": {
          "background_save": true
        },
        "id": "GoDvSKpJ6sGf",
        "outputId": "98056096-20a3-4fdc-b3f6-e82011772efe"
      },
      "outputs": [
        {
          "data": {
            "text/plain": [
              "array([0.31021965, 0.2034628 , 0.04024957, 0.3028689 , 0.03431462,\n",
              "       0.00725988, 0.89442176], dtype=float32)"
            ]
          },
          "execution_count": 18,
          "metadata": {},
          "output_type": "execute_result"
        }
      ],
      "source": [
        "train_pred[0][0]"
      ]
    },
    {
      "cell_type": "code",
      "execution_count": null,
      "metadata": {
        "id": "C2rNhX9jGg5B"
      },
      "outputs": [],
      "source": []
    }
  ],
  "metadata": {
    "colab": {
      "provenance": [],
      "include_colab_link": true
    },
    "kernelspec": {
      "display_name": "Python 3",
      "name": "python3"
    },
    "language_info": {
      "name": "python"
    }
  },
  "nbformat": 4,
  "nbformat_minor": 0
}